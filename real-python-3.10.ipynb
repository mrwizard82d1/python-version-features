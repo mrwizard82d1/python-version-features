{
 "cells": [
  {
   "cell_type": "markdown",
   "source": [
    "# Python 3.10: Cool New Features for You to Try"
   ],
   "metadata": {
    "collapsed": false
   }
  },
  {
   "cell_type": "markdown",
   "source": [
    "## Better Error Messages\n",
    "\n",
    "Run the examples:\n",
    "\n",
    "- `rp310_hello.py`\n",
    "- `rp310_unterminated_dict.py`\n",
    "- `rp310_missing_comma.py`\n",
    "- `rp310_assignment_equality.py`\n",
    "- `rp310_misspell_1.py`\n",
    "- `rp310_misspell_2.py`\n",
    "- `rp310_misspell_3.py`"
   ],
   "metadata": {
    "collapsed": false
   }
  },
  {
   "cell_type": "code",
   "execution_count": null,
   "outputs": [],
   "source": [],
   "metadata": {
    "collapsed": false
   }
  }
 ],
 "metadata": {
  "kernelspec": {
   "display_name": "Python 3",
   "language": "python",
   "name": "python3"
  },
  "language_info": {
   "codemirror_mode": {
    "name": "ipython",
    "version": 2
   },
   "file_extension": ".py",
   "mimetype": "text/x-python",
   "name": "python",
   "nbconvert_exporter": "python",
   "pygments_lexer": "ipython2",
   "version": "2.7.6"
  }
 },
 "nbformat": 4,
 "nbformat_minor": 0
}
