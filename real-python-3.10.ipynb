{
 "cells": [
  {
   "cell_type": "markdown",
   "source": [
    "# Python 3.10: Cool New Features for You to Try"
   ],
   "metadata": {
    "collapsed": false
   }
  },
  {
   "cell_type": "markdown",
   "source": [
    "The code for this notebook is from this [RealPython article](https://realpython.com/python310-new-features/)"
   ],
   "metadata": {
    "collapsed": false
   }
  },
  {
   "cell_type": "code",
   "execution_count": null,
   "outputs": [],
   "source": [
    "import sys"
   ],
   "metadata": {
    "collapsed": false
   }
  },
  {
   "cell_type": "code",
   "execution_count": null,
   "outputs": [],
   "source": [
    "import pendulum\n",
    "import requests  # Used to access random user data from `https://randomuser.me/`"
   ],
   "metadata": {
    "collapsed": false
   }
  },
  {
   "cell_type": "markdown",
   "source": [
    "## Better Error Messages\n",
    "\n",
    "Run the examples:\n",
    "\n",
    "- `rp310_hello.py`\n",
    "- `rp310_unterminated_dict.py`\n",
    "- `rp310_missing_comma.py`\n",
    "- `rp310_assignment_equality.py`\n",
    "- `rp310_misspell_1.py`\n",
    "- `rp310_misspell_2.py`\n",
    "- `rp310_misspell_3.py`"
   ],
   "metadata": {
    "collapsed": false
   }
  },
  {
   "cell_type": "markdown",
   "source": [
    "## Structural Pattern Matching"
   ],
   "metadata": {
    "collapsed": false
   }
  },
  {
   "cell_type": "markdown",
   "source": [
    "We'll demonstrate this feature with three different examples:\n",
    "- Detecting and deconstructing different **structures** in your data\n",
    "- Using different kinds of **patterns**\n",
    "- **Matching** literal patterns\n",
    "\n",
    "We'll also include links for more details."
   ],
   "metadata": {
    "collapsed": false
   }
  },
  {
   "cell_type": "markdown",
   "source": [
    "### Deconstructing Data Structures"
   ],
   "metadata": {
    "collapsed": false
   }
  },
  {
   "cell_type": "code",
   "execution_count": null,
   "outputs": [],
   "source": [
    "a_user = {\n",
    "    'name': {'first': 'Pablo', 'last': 'Galindo Salgado'},\n",
    "    'title': 'Python 3.10 release manager',\n",
    "}\n",
    "\n",
    "match a_user:\n",
    "    case {'name': {'first': first_name}}:\n",
    "        pass\n",
    "\n",
    "# noinspection PyUnboundLocalVariable\n",
    "first_name"
   ],
   "metadata": {
    "collapsed": false
   }
  },
  {
   "cell_type": "markdown",
   "source": [
    "#### Getting Random User Data\n",
    "\n",
    "Using `requests` to obtain different versions of the user data using the API."
   ],
   "metadata": {
    "collapsed": false
   }
  },
  {
   "cell_type": "code",
   "execution_count": null,
   "outputs": [],
   "source": [
    "def get_user(version='1.3'):\n",
    "    \"\"\"Get random user information.\"\"\"\n",
    "    raw_url = f'https://randomuser.me/api/{version}/?result=1'\n",
    "    # Typically, one would use the `raw_url` defined above; however, we want\n",
    "    # to duplicate the random data from the\n",
    "    # [RealPython article](https://realpython.com/python310-new-features/).\n",
    "    # Therefore, we add a `seed` parameter to the URL with the value 310.\n",
    "    #\n",
    "    # Note that the JSON object returned by the API contains metadata that\n",
    "    # includes **both** the version of the data as well as the seed used to\n",
    "    # create the random user.\n",
    "    url = f'{raw_url}&seed=310'\n",
    "    response = requests.get(url)\n",
    "    if response:\n",
    "        return response.json()['results'][0]"
   ],
   "metadata": {
    "collapsed": false
   }
  },
  {
   "cell_type": "code",
   "execution_count": null,
   "outputs": [],
   "source": [
    "user_13 = get_user()\n",
    "user_13"
   ],
   "metadata": {
    "collapsed": false
   }
  },
  {
   "cell_type": "markdown",
   "source": [
    "Compare the previous result with a version 1.1 random user:"
   ],
   "metadata": {
    "collapsed": false
   }
  },
  {
   "cell_type": "code",
   "execution_count": null,
   "outputs": [],
   "source": [
    "user_11 = get_user(version='1.1')\n",
    "user_11"
   ],
   "metadata": {
    "collapsed": false
   }
  },
  {
   "cell_type": "markdown",
   "source": [
    "One of the members changed between version 1.1 and version 1.3 is `dob`. In version 1.3, the value for `dob` is a dictionary with two keys: 'data' and 'name'.\n"
   ],
   "metadata": {
    "collapsed": false
   }
  },
  {
   "cell_type": "code",
   "execution_count": null,
   "outputs": [],
   "source": [
    "user_13['dob']"
   ],
   "metadata": {
    "collapsed": false
   }
  },
  {
   "cell_type": "markdown",
   "source": [
    "In version 1.1, the value of `dob` is of type `string` containing the date of birth. As a result, the developer must **calculate** the age.\n",
    "\n",
    "Additionally, remember that the `age` returned by the 1.3 API is accurate when the data is returned. If you store this data, this value will eventually become outdated. If this is a concern, one should calculate the current age based on the `date` field."
   ],
   "metadata": {
    "collapsed": false
   }
  },
  {
   "cell_type": "code",
   "execution_count": null,
   "outputs": [],
   "source": [
    "user_11['dob']"
   ],
   "metadata": {
    "collapsed": false
   }
  },
  {
   "cell_type": "markdown",
   "source": [
    "Before Python 3.10, to calculate the age from **different** API versions, one would use an `if` statement and perform different calculations based on the API version.\n",
    "\n",
    "In Python 3.10, we can use structural pattern matching instead!"
   ],
   "metadata": {
    "collapsed": false
   }
  },
  {
   "cell_type": "code",
   "execution_count": null,
   "outputs": [],
   "source": [
    "def get_age(user):\n",
    "    \"\"\"Get the age of a user.\"\"\"\n",
    "    match user:\n",
    "        # Note that patterns are matched **in order**; that as the 1.3\n",
    "        # version of `dob` will be tried **before** matching the 1.1 version.\n",
    "        # If we reversed the order of the two `case` clauses (patterns),\n",
    "        # Python would **never** match the 1.3 pattern because it would\n",
    "        # always match the 1.1 version.\n",
    "        #\n",
    "        # The moral of the story, order candidate patterns from most\n",
    "        # specific to most general.\n",
    "        case {'dob': {'age': int(age)}}:\n",
    "            return age\n",
    "        case {'dob': dob_text}:\n",
    "            print(f'{dob_text=}')\n",
    "            dob = pendulum.parse(dob_text)\n",
    "            now = pendulum.now(tz=dob.tz)\n",
    "            return (now - dob).in_years()"
   ],
   "metadata": {
    "collapsed": false
   }
  },
  {
   "cell_type": "code",
   "execution_count": null,
   "outputs": [],
   "source": [
    "user_13['dob'], get_age(user_13)"
   ],
   "metadata": {
    "collapsed": false
   }
  },
  {
   "cell_type": "code",
   "execution_count": null,
   "outputs": [],
   "source": [
    "user_11['dob'], get_age(user_11)"
   ],
   "metadata": {
    "collapsed": false
   }
  },
  {
   "cell_type": "markdown",
   "source": [
    "### Using Different Kinds of Patterns"
   ],
   "metadata": {
    "collapsed": false
   }
  },
  {
   "cell_type": "markdown",
   "source": [
    "To gain background on structural pattern matching, consider the three PEPs related to this issue:\n",
    "\n",
    "- PEP 634: [Specification](https://www.python.org/dev/peps/pep-0634/)\n",
    "- PEP 635: [Motivation and Rationale](https://www.python.org/dev/peps/pep-0635/)\n",
    "- PEP 636: [Tutorial](https://www.python.org/dev/peps/pep-0636/)"
   ],
   "metadata": {
    "collapsed": false
   }
  },
  {
   "cell_type": "markdown",
   "source": [
    "In this section, we'll learn about the different kinds of patterns that exist:\n",
    "\n",
    "- **Mapping patterns**\n",
    "  Matching mapping structures like dictionaries.\n",
    "- **Sequence patterns**\n",
    "  Match sequence structures like tuples and lists.\n",
    "- **Capture patterns**\n",
    "  Bind values to names.\n",
    "- **AS patterns**\n",
    "  Bind value of sub-patterns to names.\n",
    "- **OR patterns**\n",
    "  Match one of several different sub-patterns.\n",
    "- **Wildcard patterns**\n",
    "  Match anything.\n",
    "- **Class patterns**\n",
    "  Match class structures.\n",
    "- **Value patterns**\n",
    "  Match values stored in attributes.\n",
    "- **Literal patterns**\n",
    "  Match literal values."
   ],
   "metadata": {
    "collapsed": false
   }
  },
  {
   "cell_type": "code",
   "execution_count": null,
   "outputs": [],
   "source": [
    "# A **capture pattern** is used to capture a match to a pattern **and** bind it to a name.\n",
    "def sum_list(numbers):\n",
    "    \"\"\"Sums the numbers in a list.\n",
    "\n",
    "    This implementation is a \"port\" of the classic recursive implementation\n",
    "    found in languages like Scheme and Clojure.\n",
    "    \"\"\"\n",
    "    match numbers:\n",
    "        # A sequence pattern that only matches an empty sequence\n",
    "        case []:\n",
    "            return 0\n",
    "        # Matches a sequence consisting of at least one item.\n",
    "        # The expression `*rest` captures all items in the list but the first.\n",
    "        case [first, *rest]:\n",
    "            return first + sum_list(rest)"
   ],
   "metadata": {
    "collapsed": false
   }
  },
  {
   "cell_type": "code",
   "execution_count": null,
   "outputs": [],
   "source": [
    "sum_list([])"
   ],
   "metadata": {
    "collapsed": false
   }
  },
  {
   "cell_type": "code",
   "execution_count": null,
   "outputs": [],
   "source": [
    "sum_list([1])"
   ],
   "metadata": {
    "collapsed": false
   }
  },
  {
   "cell_type": "code",
   "execution_count": null,
   "outputs": [],
   "source": [
    "sum_list([1, 2, 3, 4, 5])"
   ],
   "metadata": {
    "collapsed": false
   }
  },
  {
   "cell_type": "markdown",
   "source": [
    "**Note**: Capture patterns essentially assign values to variables. A limitation is that only **undotted** names are allowed; that is, one cannot use a capture pattern to assign to a class or instance attribute directly."
   ],
   "metadata": {
    "collapsed": false
   }
  },
  {
   "cell_type": "markdown",
   "source": [
    "Notice that `sum_list()` expects a list of **numbers** to sum. Observe what happens when you supply lists of of other values:"
   ],
   "metadata": {
    "collapsed": false
   }
  },
  {
   "cell_type": "code",
   "execution_count": null,
   "outputs": [],
   "source": [
    "print(sum_list(\"4594\"))"
   ],
   "metadata": {
    "collapsed": false
   }
  },
  {
   "cell_type": "code",
   "execution_count": null,
   "outputs": [],
   "source": [
    "print(sum_list(4957))"
   ],
   "metadata": {
    "collapsed": false
   }
  },
  {
   "cell_type": "markdown",
   "source": [
    "This behavior is a result of the semantics of a \"match\". The Python interpreter attempts to match all patterns in the `match ... case ...` construct from top to bottom (in the source code). The interpreter executes that code block for the **first** matching case with the capture variables bound. If **no match** occurs, the interpreter continues executing code after the `match ... case ...` construct."
   ],
   "metadata": {
    "collapsed": false
   }
  },
  {
   "cell_type": "markdown",
   "source": [
    "Often, though, you may want to be alerted to failed matches. To match **anything**, use the wildcard pattern, an underscore (_). A wildcard pattern **always** matches but it binds **no variables** in the `case` code block."
   ],
   "metadata": {
    "collapsed": false
   }
  },
  {
   "cell_type": "code",
   "execution_count": null,
   "outputs": [],
   "source": [
    "# Illustrates the \"catch all\" pattern (`_`)\n",
    "def sum_list_with_catch_all(numbers):\n",
    "    \"\"\"Sums the numbers in a list.\n",
    "\n",
    "    This implementation is a \"port\" of the classic recursive implementation\n",
    "    found in languages like Scheme and Clojure.\n",
    "    \"\"\"\n",
    "    match numbers:\n",
    "        # A sequence pattern that only matches an empty sequence\n",
    "        case []:\n",
    "            return 0\n",
    "        # Matches a sequence consisting of at least one item.\n",
    "        # The expression `*rest` captures all items in the list but the first.\n",
    "        case [first, *rest]:\n",
    "            return first + sum_list(rest)\n",
    "        # Matches any other value\n",
    "        case _:\n",
    "            wrong_type = numbers.__class__.__name__\n",
    "            raise ValueError(f'Can only sum lists, not {wrong_type}')"
   ],
   "metadata": {
    "collapsed": false
   }
  },
  {
   "cell_type": "code",
   "execution_count": null,
   "outputs": [],
   "source": [
    "print(sum_list_with_catch_all([]))\n",
    "print(sum_list_with_catch_all([2]))\n",
    "print(sum_list_with_catch_all([2, 4, 6]))"
   ],
   "metadata": {
    "collapsed": false
   }
  },
  {
   "cell_type": "code",
   "execution_count": null,
   "outputs": [],
   "source": [
    "def try_it(callable_to_try):\n",
    "    # noinspection PyBroadException\n",
    "    try:\n",
    "        callable_to_try()\n",
    "    except:\n",
    "        exception_type, exception_value, _ = sys.exc_info()\n",
    "        print(f'{exception_type.__name__}: {exception_value}')"
   ],
   "metadata": {
    "collapsed": false
   }
  },
  {
   "cell_type": "code",
   "execution_count": null,
   "outputs": [],
   "source": [
    "try_it(lambda: sum_list_with_catch_all('4594'))"
   ],
   "metadata": {
    "collapsed": false
   }
  },
  {
   "cell_type": "code",
   "execution_count": null,
   "outputs": [],
   "source": [
    "try_it(lambda: sum_list_with_catch_all(4595))"
   ],
   "metadata": {
    "collapsed": false
   }
  },
  {
   "cell_type": "markdown",
   "source": [
    "The patterns in `sum_list_with_catch_all()` are still not perfect. Consider what happens if you try to sum a list of string values."
   ],
   "metadata": {
    "collapsed": false
   }
  },
  {
   "cell_type": "code",
   "execution_count": null,
   "outputs": [],
   "source": [
    "try_it(lambda: sum_list_with_catch_all(['45', '94']))"
   ],
   "metadata": {
    "collapsed": false
   }
  },
  {
   "cell_type": "markdown",
   "source": [
    "Because the base case returns the `int` value, zero (0), Python raises an exception when one tries to execute the expression `0 + '45``."
   ],
   "metadata": {
    "collapsed": false
   }
  },
  {
   "cell_type": "markdown",
   "source": [
    "To avoid this error, one can restrict the pattern to match only integers by using a **class pattern**."
   ],
   "metadata": {
    "collapsed": false
   }
  },
  {
   "cell_type": "code",
   "execution_count": null,
   "outputs": [],
   "source": [
    "# Restricting the matches to `int` values only\n",
    "def sum_list_of_integers(numbers):\n",
    "    \"\"\"Sums the numbers in a list.\n",
    "\n",
    "    This implementation is a \"port\" of the classic recursive implementation\n",
    "    found in languages like Scheme and Clojure.\n",
    "    \"\"\"\n",
    "    match numbers:\n",
    "        # A sequence pattern that only matches an empty sequence\n",
    "        case []:\n",
    "            return 0\n",
    "        # Matches a sequence consisting of at least one integer.\n",
    "        # The expression `*rest` captures all items in the list but the first.\n",
    "        case [int(first), *rest]:\n",
    "            return first + sum_list(rest)\n",
    "        # Matches any other value\n",
    "        case _:\n",
    "            wrong_type = numbers.__class__.__name__\n",
    "            raise ValueError(f'Can only sum integer lists, not {wrong_type}')"
   ],
   "metadata": {
    "collapsed": false
   }
  },
  {
   "cell_type": "code",
   "execution_count": null,
   "outputs": [],
   "source": [
    "try_it(lambda: sum_list_of_integers(['45', '94']))"
   ],
   "metadata": {
    "collapsed": false
   }
  },
  {
   "cell_type": "markdown",
   "source": [
    "Adding `int()` around `first` ensures that the pattern only matches if the value bound to `first` is an `int`.\n",
    "\n",
    "**Note**: `first` will be bound to the value **before** testing for the match (a side-effect)."
   ],
   "metadata": {
    "collapsed": false
   }
  },
  {
   "cell_type": "markdown",
   "source": [
    "The function `sum_list_of_integers()` is now a bit too restrictive; that is, it will only sum `int` value; values of type `float` (and `fraction.Fraction` and `decimal.Decimal`) will raise an exception caught in the catch all clause."
   ],
   "metadata": {
    "collapsed": false
   }
  },
  {
   "cell_type": "markdown",
   "source": [
    "To address this last issue, we can use an **OR pattern**. An _OR pattern_ consists of two or more sub-patterns. If any of the sub-patterns match (matching left-to-right and taking the first match), the entire match succeeds with the variable bindings set in the matching sub-pattern."
   ],
   "metadata": {
    "collapsed": false
   }
  },
  {
   "cell_type": "code",
   "execution_count": null,
   "outputs": [],
   "source": [
    "# Only summing values that can be summed (`int` and `float` values)\n",
    "def sum_list_of_numbers(numbers):\n",
    "    \"\"\"Sums the numbers in a list.\n",
    "\n",
    "    This implementation is a \"port\" of the classic recursive implementation\n",
    "    found in languages like Scheme and Clojure.\n",
    "    \"\"\"\n",
    "    match numbers:\n",
    "        # A sequence pattern that only matches an empty sequence\n",
    "        case []:\n",
    "            return 0\n",
    "        # Matches a sequence consisting of at least one number (either `int` or `float`).\n",
    "        # The expression `*rest` captures all items in the list but the first.\n",
    "        case [int(first) | float(first), *rest]:\n",
    "            return first + sum_list(rest)\n",
    "        # Matches any other value\n",
    "        case _:\n",
    "            wrong_type = numbers.__class__.__name__\n",
    "            raise ValueError(f'Can only sum integer lists, not {wrong_type}')"
   ],
   "metadata": {
    "collapsed": false
   }
  },
  {
   "cell_type": "code",
   "execution_count": null,
   "outputs": [],
   "source": [
    "print(sum_list_of_numbers([]))\n",
    "print(sum_list_of_numbers([-1]))\n",
    "print(sum_list_of_numbers([1, 2.0, 3]))"
   ],
   "metadata": {
    "collapsed": false
   }
  },
  {
   "cell_type": "code",
   "execution_count": null,
   "outputs": [],
   "source": [
    "try_it(lambda: sum_list_of_numbers('4594'))\n",
    "try_it(lambda: sum_list_of_numbers(4594))\n",
    "try_it(lambda: sum_list_of_numbers(['45', '94']))"
   ],
   "metadata": {
    "collapsed": false
   }
  },
  {
   "cell_type": "code",
   "execution_count": null,
   "outputs": [],
   "source": [],
   "metadata": {
    "collapsed": false
   }
  }
 ],
 "metadata": {
  "kernelspec": {
   "display_name": "Python 3",
   "language": "python",
   "name": "python3"
  },
  "language_info": {
   "codemirror_mode": {
    "name": "ipython",
    "version": 2
   },
   "file_extension": ".py",
   "mimetype": "text/x-python",
   "name": "python",
   "nbconvert_exporter": "python",
   "pygments_lexer": "ipython2",
   "version": "2.7.6"
  }
 },
 "nbformat": 4,
 "nbformat_minor": 0
}
