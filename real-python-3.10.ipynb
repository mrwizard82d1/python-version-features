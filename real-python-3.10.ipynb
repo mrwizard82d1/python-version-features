{
 "cells": [
  {
   "cell_type": "markdown",
   "source": [
    "# Python 3.10: Cool New Features for You to Try"
   ],
   "metadata": {
    "collapsed": false
   }
  },
  {
   "cell_type": "markdown",
   "source": [
    "The code for this notebook is from this [RealPython article](https://realpython.com/python310-new-features/)"
   ],
   "metadata": {
    "collapsed": false
   }
  },
  {
   "cell_type": "code",
   "execution_count": null,
   "outputs": [],
   "source": [
    "import datetime"
   ],
   "metadata": {
    "collapsed": false
   }
  },
  {
   "cell_type": "code",
   "execution_count": null,
   "outputs": [],
   "source": [
    "import pendulum\n",
    "import requests  # Used to access random user data from `https://randomuser.me/`"
   ],
   "metadata": {
    "collapsed": false
   }
  },
  {
   "cell_type": "markdown",
   "source": [
    "## Better Error Messages\n",
    "\n",
    "Run the examples:\n",
    "\n",
    "- `rp310_hello.py`\n",
    "- `rp310_unterminated_dict.py`\n",
    "- `rp310_missing_comma.py`\n",
    "- `rp310_assignment_equality.py`\n",
    "- `rp310_misspell_1.py`\n",
    "- `rp310_misspell_2.py`\n",
    "- `rp310_misspell_3.py`"
   ],
   "metadata": {
    "collapsed": false
   }
  },
  {
   "cell_type": "markdown",
   "source": [
    "## Structural Pattern Matching"
   ],
   "metadata": {
    "collapsed": false
   }
  },
  {
   "cell_type": "markdown",
   "source": [
    "We'll demonstrate this feature with three different examples:\n",
    "- Detecting and deconstructing different **structures** in your data\n",
    "- Using different kinds of **patterns**\n",
    "- **Matching** literal patterns\n",
    "\n",
    "We'll also include links for more details."
   ],
   "metadata": {
    "collapsed": false
   }
  },
  {
   "cell_type": "markdown",
   "source": [
    "### Deconstructing Data Structures"
   ],
   "metadata": {
    "collapsed": false
   }
  },
  {
   "cell_type": "code",
   "execution_count": null,
   "outputs": [],
   "source": [
    "a_user = {\n",
    "    'name': {'first': 'Pablo', 'last': 'Galindo Salgado'},\n",
    "    'title': 'Python 3.10 release manager',\n",
    "}\n",
    "\n",
    "match a_user:\n",
    "    case {'name': {'first': first_name}}:\n",
    "        pass\n",
    "\n",
    "# noinspection PyUnboundLocalVariable\n",
    "first_name"
   ],
   "metadata": {
    "collapsed": false
   }
  },
  {
   "cell_type": "markdown",
   "source": [
    "#### Getting Random User Data\n",
    "\n",
    "Using `requests` to obtain different versions of the user data using the API."
   ],
   "metadata": {
    "collapsed": false
   }
  },
  {
   "cell_type": "code",
   "execution_count": null,
   "outputs": [],
   "source": [
    "def get_user(version='1.3'):\n",
    "    \"\"\"Get random user information.\"\"\"\n",
    "    raw_url = f'https://randomuser.me/api/{version}/?result=1'\n",
    "    # Typically, one would use the `raw_url` defined above; however, we want\n",
    "    # to duplicate the random data from the\n",
    "    # [RealPython article](https://realpython.com/python310-new-features/).\n",
    "    # Therefore, we add a `seed` parameter to the URL with the value 310.\n",
    "    #\n",
    "    # Note that the JSON object returned by the API contains metadata that\n",
    "    # includes **both** the version of the data as well as the seed used to\n",
    "    # create the random user.\n",
    "    url = f'{raw_url}&seed=310'\n",
    "    response = requests.get(url)\n",
    "    if response:\n",
    "        return response.json()['results'][0]"
   ],
   "metadata": {
    "collapsed": false
   }
  },
  {
   "cell_type": "code",
   "execution_count": null,
   "outputs": [],
   "source": [
    "user_13 = get_user()\n",
    "user_13"
   ],
   "metadata": {
    "collapsed": false
   }
  },
  {
   "cell_type": "markdown",
   "source": [
    "Compare the previous result with a version 1.1 random user:"
   ],
   "metadata": {
    "collapsed": false
   }
  },
  {
   "cell_type": "code",
   "execution_count": null,
   "outputs": [],
   "source": [
    "user_11 = get_user(version='1.1')\n",
    "user_11"
   ],
   "metadata": {
    "collapsed": false
   }
  },
  {
   "cell_type": "markdown",
   "source": [
    "One of the members changed between version 1.1 and version 1.3 is `dob`. In version 1.3, the value for `dob` is a dictionary with two keys: 'data' and 'name'.\n"
   ],
   "metadata": {
    "collapsed": false
   }
  },
  {
   "cell_type": "code",
   "execution_count": null,
   "outputs": [],
   "source": [
    "user_13['dob']"
   ],
   "metadata": {
    "collapsed": false
   }
  },
  {
   "cell_type": "markdown",
   "source": [
    "In version 1.1, the value of `dob` is of type `string` containing the date of birth. As a result, the developer must **calculate** the age.\n",
    "\n",
    "Additionally, remember that the `age` returned by the 1.3 API is accurate when the data is returned. If you store this data, this value will eventually become outdated. If this is a concern, one should calculate the current age based on the `date` field."
   ],
   "metadata": {
    "collapsed": false
   }
  },
  {
   "cell_type": "code",
   "execution_count": null,
   "outputs": [],
   "source": [
    "user_11['dob']"
   ],
   "metadata": {
    "collapsed": false
   }
  },
  {
   "cell_type": "markdown",
   "source": [
    "Before Python 3.10, to calculate the age from **different** API versions, one would use an `if` statement and perform different calculations based on the API version.\n",
    "\n",
    "In Python 3.10, we can use structural pattern matching instead!"
   ],
   "metadata": {
    "collapsed": false
   }
  },
  {
   "cell_type": "code",
   "execution_count": null,
   "outputs": [],
   "source": [
    "def get_age(user):\n",
    "    \"\"\"Get the age of a user.\"\"\"\n",
    "    match user:\n",
    "        # Note that patterns are matched **in order**; that as the 1.3\n",
    "        # version of `dob` will be tried **before** matching the 1.1 version.\n",
    "        # If we reversed the order of the two `case` clauses (patterns),\n",
    "        # Python would **never** match the 1.3 pattern because it would\n",
    "        # always match the 1.1 version.\n",
    "        #\n",
    "        # The moral of the story, order candidate patterns from most\n",
    "        # specific to most general.\n",
    "        case {'dob': {'age': int(age)}}:\n",
    "            return age\n",
    "        case {'dob': dob_text}:\n",
    "            print(f'{dob_text=}')\n",
    "            dob = pendulum.parse(dob_text)\n",
    "            now = pendulum.now(tz=dob.tz)\n",
    "            return (now - dob).in_years()"
   ],
   "metadata": {
    "collapsed": false
   }
  },
  {
   "cell_type": "code",
   "execution_count": null,
   "outputs": [],
   "source": [
    "user_13['dob'], get_age(user_13)"
   ],
   "metadata": {
    "collapsed": false
   }
  },
  {
   "cell_type": "code",
   "execution_count": null,
   "outputs": [],
   "source": [
    "user_11['dob'], get_age(user_11)"
   ],
   "metadata": {
    "collapsed": false
   }
  },
  {
   "cell_type": "code",
   "execution_count": null,
   "outputs": [],
   "source": [],
   "metadata": {
    "collapsed": false
   }
  }
 ],
 "metadata": {
  "kernelspec": {
   "display_name": "Python 3",
   "language": "python",
   "name": "python3"
  },
  "language_info": {
   "codemirror_mode": {
    "name": "ipython",
    "version": 2
   },
   "file_extension": ".py",
   "mimetype": "text/x-python",
   "name": "python",
   "nbconvert_exporter": "python",
   "pygments_lexer": "ipython2",
   "version": "2.7.6"
  }
 },
 "nbformat": 4,
 "nbformat_minor": 0
}
