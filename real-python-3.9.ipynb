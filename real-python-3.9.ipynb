{
 "cells": [
  {
   "cell_type": "markdown",
   "source": [
    "# Python 3.9: Cool New Features for You to Try"
   ],
   "metadata": {
    "collapsed": false
   }
  },
  {
   "cell_type": "markdown",
   "source": [
    "The code in this notebook is from [this Real Python article](https://realpython.com/python39-new-features/)"
   ],
   "metadata": {
    "collapsed": false
   }
  },
  {
   "cell_type": "markdown",
   "source": [
    "## Proper Time Zone Support"
   ],
   "metadata": {
    "collapsed": false
   }
  },
  {
   "cell_type": "code",
   "execution_count": null,
   "outputs": [],
   "source": [
    "import datetime as dt"
   ],
   "metadata": {
    "collapsed": false
   }
  },
  {
   "cell_type": "code",
   "execution_count": null,
   "outputs": [],
   "source": [
    "dt.datetime.now(tz=dt.timezone.utc)"
   ],
   "metadata": {
    "collapsed": false
   }
  },
  {
   "cell_type": "code",
   "execution_count": null,
   "outputs": [],
   "source": [
    "# A \"naive\" datetime has no time zone information\n",
    "dt.datetime.now()"
   ],
   "metadata": {
    "collapsed": false
   }
  },
  {
   "cell_type": "markdown",
   "source": [
    "The long-time maintainer of `dateutil`, Paul Ganssle, has joined the core team and helped add a new `zoneinfo` standard library module."
   ],
   "metadata": {
    "collapsed": false
   }
  },
  {
   "cell_type": "code",
   "execution_count": null,
   "outputs": [],
   "source": [
    "import zoneinfo as zone"
   ],
   "metadata": {
    "collapsed": false
   }
  },
  {
   "cell_type": "markdown",
   "source": [
    "The `zoneinfo` module relies on an IANA time zone database residing on your local computer. It's possible, on Windows in particular, that you don't have any such database or that `zoneinfo` cannot locate it. If you get an error like the following, then `zoneinfo` hasn't been able to locate a time zone database:\n",
    "\n",
    "```\n",
    ">>> from zoneinfo import ZoneInfo\n",
    ">>> ZoneInfo(\"America/Vancouver\")\n",
    "Traceback (most recent call last):\n",
    "  File \"<stdin>\", line 1, in <module>\n",
    "ZoneInfoNotFoundError: 'No time zone found with key America/Vancouver'\n",
    "```\n",
    "\n",
    "An implementation of the IANA Time Zone Database is available on [PyPI](https://pypi.org) as `tzdata`. One can install it using `pip`:\n",
    "\n",
    "```\n",
    "python -m pip install tzdata\n",
    "```\n"
   ],
   "metadata": {
    "collapsed": false
   }
  },
  {
   "cell_type": "code",
   "execution_count": null,
   "outputs": [],
   "source": [
    "# Prints exception on Windows when I had not installed `tzdata`. I'm about to install it in our virtual environment so the error should not occur again\n",
    "try:\n",
    "    zone.ZoneInfo('America/Vancouver')\n",
    "except zone.ZoneInfoNotFoundError as zinfe:\n",
    "    print(f'ZoneInfoNotFoundError: {zinfe}')"
   ],
   "metadata": {
    "collapsed": false
   }
  },
  {
   "cell_type": "code",
   "execution_count": null,
   "outputs": [],
   "source": [
    "# After installing `tzdata`, I observed no error\n",
    "zone.ZoneInfo('America/Vancouver')"
   ],
   "metadata": {
    "collapsed": false
   }
  },
  {
   "cell_type": "code",
   "execution_count": null,
   "outputs": [],
   "source": [
    "# One creates time-zone-aware time stamps using the `tz`...\n",
    "dt.datetime.now(tz=zone.ZoneInfo('Europe/Oslo'))"
   ],
   "metadata": {
    "collapsed": false
   }
  },
  {
   "cell_type": "code",
   "execution_count": null,
   "outputs": [],
   "source": [
    "# ...or the `tzinfo` optional parameter to the `datetime` constructors.\n",
    "dt.datetime(2020, 10, 5, 3, 9, tzinfo=zone.ZoneInfo('America/Vancouver'))"
   ],
   "metadata": {
    "collapsed": false
   }
  },
  {
   "cell_type": "code",
   "execution_count": null,
   "outputs": [],
   "source": [
    "# Conversion between time zones\n",
    "release = dt.datetime(2020, 10, 5, 3, 9, tzinfo=zone.ZoneInfo('America/Vancouver'))\n",
    "release.astimezone(zone.ZoneInfo('Europe/Oslo'))"
   ],
   "metadata": {
    "collapsed": false
   }
  },
  {
   "cell_type": "markdown",
   "source": [
    "### Investigating Time Zones"
   ],
   "metadata": {
    "collapsed": false
   }
  },
  {
   "cell_type": "code",
   "execution_count": null,
   "outputs": [],
   "source": [
    "# List all available time zones\n",
    "zone.available_timezones()"
   ],
   "metadata": {
    "collapsed": false
   }
  },
  {
   "cell_type": "code",
   "execution_count": null,
   "outputs": [],
   "source": [
    "# The number of time zones vary with installation (and, I think, over time).\n",
    "#\n",
    "# The [article](https://realpython.com/python39-new-features/) identifies 609 time zone names listed.\n",
    "len(zone.available_timezones())"
   ],
   "metadata": {
    "collapsed": false
   }
  },
  {
   "cell_type": "markdown",
   "source": [
    "[Kiritimati](https://en.wikipedia.org/wiki/Kiritimati), also known as Christmas Island, is currently in the westernmost time zone in the world, UTC+14. That hasn’t always been the case. Before 1995, the island was on the other side of the International Date Line, in UTC-10. In order to move across the date line, Kiritimati completely skipped December 31, 1994."
   ],
   "metadata": {
    "collapsed": false
   }
  },
  {
   "cell_type": "code",
   "execution_count": null,
   "outputs": [],
   "source": [
    "tz_kiritimati = zone.ZoneInfo('Pacific/Kiritimati')\n",
    "ts = dt.datetime(1994, 12, 31, 9, 0, 0, tzinfo=zone.ZoneInfo('UTC'))\n",
    "ts.astimezone(tz_kiritimati)"
   ],
   "metadata": {
    "collapsed": false
   }
  },
  {
   "cell_type": "code",
   "execution_count": null,
   "outputs": [],
   "source": [
    "# A unit of one hour is useful in ensuing calculations\n",
    "hour = dt.timedelta(hours=1)"
   ],
   "metadata": {
    "collapsed": false
   }
  },
  {
   "cell_type": "code",
   "execution_count": null,
   "outputs": [],
   "source": [
    "(ts + 1 * hour).astimezone(tz_kiritimati)"
   ],
   "metadata": {
    "collapsed": false
   }
  },
  {
   "cell_type": "code",
   "execution_count": null,
   "outputs": [],
   "source": [
    "# One can also see that the offset from UTC changed\n",
    "tz_kiritimati.utcoffset(dt.datetime(1994, 12, 30)) / hour"
   ],
   "metadata": {
    "collapsed": false
   }
  },
  {
   "cell_type": "code",
   "execution_count": null,
   "outputs": [],
   "source": [
    "tz_kiritimati.utcoffset(dt.datetime(1995, 1, 1)) / hour"
   ],
   "metadata": {
    "collapsed": false
   }
  },
  {
   "cell_type": "markdown",
   "source": [
    "### Using Best Practices"
   ],
   "metadata": {
    "collapsed": false
   }
  },
  {
   "cell_type": "markdown",
   "source": [
    "Heuristics:\n",
    "\n",
    "- When dealing with **civil times** like the time of a meeting, a train departure, or a concert, store the time in their _native_ time zone.\n",
    "- When dealing with **time stamps** like computer logs, store these kinds of time stamps in UTC.\n",
    "- The IANA Time Zone Database changes all the time. If your application in sensitive to time zones, update the database \"regularly\" (particularly on Windows)\n",
    "- The IANA time zone names, like 'America/Vancouver', identify a time zone unambiguously; however, they are not well-known. To communicate time zone-aware date times to a user, use regular time zone names. These names are available using the `tzname` method on a time zone object."
   ],
   "metadata": {
    "collapsed": false
   }
  },
  {
   "cell_type": "code",
   "execution_count": null,
   "outputs": [],
   "source": [
    "# Random time zone\n",
    "meeting_time_tz = zone.ZoneInfo(list(zone.available_timezones())[563])\n",
    "meeting_time_tz"
   ],
   "metadata": {
    "collapsed": false
   }
  },
  {
   "cell_type": "code",
   "execution_count": null,
   "outputs": [],
   "source": [
    "# The time of a local meeting\n",
    "meeting_time = dt.datetime(2022, 11, 5, 20, 46, 28, tzinfo=meeting_time_tz)\n",
    "meeting_time"
   ],
   "metadata": {
    "collapsed": false
   }
  },
  {
   "cell_type": "code",
   "execution_count": null,
   "outputs": [],
   "source": [
    "# Users may not recognize the time zone, 'Australia/Brisbane', nor the UTC offset\n",
    "str(meeting_time)"
   ],
   "metadata": {
    "collapsed": false
   }
  },
  {
   "cell_type": "code",
   "execution_count": null,
   "outputs": [],
   "source": [
    "meeting_time.isoformat()"
   ],
   "metadata": {
    "collapsed": false
   }
  },
  {
   "cell_type": "code",
   "execution_count": null,
   "outputs": [],
   "source": [
    "f'{meeting_time:%c}'"
   ],
   "metadata": {
    "collapsed": false
   }
  },
  {
   "cell_type": "code",
   "execution_count": null,
   "outputs": [],
   "source": [
    "# Note that one must provide a time stamp to `tzname()` because the name **changes** over time.\n",
    "f'{meeting_time:%c} {meeting_time_tz.tzname(meeting_time)}'"
   ],
   "metadata": {
    "collapsed": false
   }
  },
  {
   "cell_type": "code",
   "execution_count": null,
   "outputs": [],
   "source": [
    "log_time = dt.datetime(2018, 11, 12, 16, 56, 8, tzinfo=zone.ZoneInfo('UTC'))\n",
    "log_time"
   ],
   "metadata": {
    "collapsed": false
   }
  },
  {
   "cell_type": "code",
   "execution_count": null,
   "outputs": [],
   "source": [
    "str(log_time)"
   ],
   "metadata": {
    "collapsed": false
   }
  },
  {
   "cell_type": "code",
   "execution_count": null,
   "outputs": [],
   "source": [
    "log_time.isoformat()"
   ],
   "metadata": {
    "collapsed": false
   }
  },
  {
   "cell_type": "code",
   "execution_count": null,
   "outputs": [],
   "source": [],
   "metadata": {
    "collapsed": false
   }
  }
 ],
 "metadata": {
  "kernelspec": {
   "display_name": "Python 3",
   "language": "python",
   "name": "python3"
  },
  "language_info": {
   "codemirror_mode": {
    "name": "ipython",
    "version": 2
   },
   "file_extension": ".py",
   "mimetype": "text/x-python",
   "name": "python",
   "nbconvert_exporter": "python",
   "pygments_lexer": "ipython2",
   "version": "2.7.6"
  }
 },
 "nbformat": 4,
 "nbformat_minor": 0
}
